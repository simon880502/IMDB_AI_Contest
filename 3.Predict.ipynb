{
 "cells": [
  {
   "cell_type": "code",
   "execution_count": 1,
   "metadata": {
    "scrolled": true
   },
   "outputs": [
    {
     "name": "stdout",
     "output_type": "stream",
     "text": [
      "has 875 null in all data\n",
      "\n",
      "\n",
      "float64    218\n",
      "object      44\n",
      "int64        5\n",
      "dtype: int64\n"
     ]
    }
   ],
   "source": [
    "import pandas as pd\n",
    "import numpy as np\n",
    "df = pd.read_csv(\"0728test.csv\")\n",
    "df = df.drop(columns='Number')\n",
    "REF_df = df.dropna()\n",
    "print('has {} null in all data\\n\\n'.format(df.isnull().sum().sum()))\n",
    "print(df.dtypes.value_counts())\n"
   ]
  },
  {
   "cell_type": "code",
   "execution_count": 2,
   "metadata": {},
   "outputs": [],
   "source": [
    "cat = df.select_dtypes(include='object').columns\n",
    "num = df.select_dtypes(include=['float64','int64']).columns"
   ]
  },
  {
   "cell_type": "markdown",
   "metadata": {},
   "source": [
    "# Fill NA   (cat and num)"
   ]
  },
  {
   "cell_type": "markdown",
   "metadata": {},
   "source": [
    "####  RNN"
   ]
  },
  {
   "cell_type": "code",
   "execution_count": 3,
   "metadata": {},
   "outputs": [],
   "source": [
    "from sklearn.neighbors import RadiusNeighborsRegressor,KNeighborsRegressor\n",
    "dis = 3\n",
    "for i in range(df.shape[0]):\n",
    "    Na_List = set(df.columns[df.iloc[i].isna() ].tolist())\n",
    "    Na_List-=set(cat)\n",
    "    for j in list(Na_List):\n",
    "        i2 = df.columns.get_loc(j)\n",
    "        if '_C_' in j:\n",
    "            neigh = RadiusNeighborsRegressor(radius=dis,weights='distance')\n",
    "            neigh.fit(REF_df.iloc[:,-6:],REF_df.iloc[:,i2])\n",
    "            df.iloc[i,i2]=neigh.predict(np.array(df.iloc[i,-6:]).reshape(1, -1))\n",
    "        elif '_A1_' in j:\n",
    "            neigh = RadiusNeighborsRegressor(radius=dis,weights='distance')\n",
    "            neigh.fit(REF_df.iloc[:,-6].reshape(-1, 1),REF_df.iloc[:,i2])\n",
    "            df.iloc[i,i2]=neigh.predict(df.iloc[i,-6].reshape(-1, 1))\n",
    "        elif '_A2_' in j:\n",
    "            neigh = RadiusNeighborsRegressor(radius=dis,weights='distance')\n",
    "            neigh.fit(REF_df.iloc[:,-5].reshape(-1, 1),REF_df.iloc[:,i2])\n",
    "            df.iloc[i,i2]=neigh.predict(df.iloc[i,-5].reshape(-1, 1))\n",
    "        elif '_A3_' in j:\n",
    "            neigh = RadiusNeighborsRegressor(radius=dis,weights='distance')\n",
    "            neigh.fit(REF_df.iloc[:,-4].reshape(-1, 1),REF_df.iloc[:,i2])\n",
    "            df.iloc[i,i2]=neigh.predict(df.iloc[i,-4].reshape(-1, 1))\n",
    "        elif '_A4_' in j:\n",
    "            neigh = RadiusNeighborsRegressor(radius=dis,weights='distance')\n",
    "            neigh.fit(REF_df.iloc[:,-3].reshape(-1, 1),REF_df.iloc[:,i2])\n",
    "            df.iloc[i,i2]=neigh.predict(df.iloc[i,-3].reshape(-1, 1))\n",
    "        elif '_A5_' in j:\n",
    "            neigh = RadiusNeighborsRegressor(radius=dis,weights='distance')\n",
    "            neigh.fit(REF_df.iloc[:,-2].reshape(-1, 1),REF_df.iloc[:,i2])\n",
    "            df.iloc[i,i2]=neigh.predict(df.iloc[i,-2].reshape(-1, 1))\n",
    "        elif '_A6_' in j:\n",
    "            neigh = RadiusNeighborsRegressor(radius=dis,weights='distance')\n",
    "            neigh.fit(REF_df.iloc[:,-1].reshape(-1, 1),REF_df.iloc[:,i2])\n",
    "            df.iloc[i,i2]=neigh.predict(df.iloc[i,-1].reshape(-1, 1))"
   ]
  },
  {
   "cell_type": "code",
   "execution_count": 4,
   "metadata": {
    "scrolled": true
   },
   "outputs": [
    {
     "name": "stdout",
     "output_type": "stream",
     "text": [
      "has 605 null in all data\n",
      "\n",
      "\n"
     ]
    }
   ],
   "source": [
    "print('has {} null in all data\\n\\n'.format(df.isnull().sum().sum()))"
   ]
  },
  {
   "cell_type": "markdown",
   "metadata": {},
   "source": [
    "# Fill category"
   ]
  },
  {
   "cell_type": "code",
   "execution_count": 5,
   "metadata": {},
   "outputs": [],
   "source": [
    "def Convert(s):\n",
    "    s=str(s)\n",
    "    L=s.split(';')\n",
    "    out=''\n",
    "    if len(L)==1:\n",
    "#         print(i)\n",
    "        return 'EMPTY'\n",
    "    if L[0]=='U':\n",
    "        out+=str(L[1])\n",
    "    elif L[0]=='D':\n",
    "        out+='-'+str(L[1])\n",
    "    else:\n",
    "        out+='0'\n",
    "    out+=';'\n",
    "    if L[2]=='R':\n",
    "        out+=str(L[3])\n",
    "    elif L[2]=='L':\n",
    "        out+='-'+str(L[3])\n",
    "    else:\n",
    "        out+='0'\n",
    "    return out"
   ]
  },
  {
   "cell_type": "code",
   "execution_count": 6,
   "metadata": {},
   "outputs": [
    {
     "name": "stderr",
     "output_type": "stream",
     "text": [
      "C:\\Users\\simon880502\\Anaconda3\\lib\\site-packages\\ipykernel_launcher.py:4: SettingWithCopyWarning: \n",
      "A value is trying to be set on a copy of a slice from a DataFrame.\n",
      "Try using .loc[row_indexer,col_indexer] = value instead\n",
      "\n",
      "See the caveats in the documentation: http://pandas.pydata.org/pandas-docs/stable/indexing.html#indexing-view-versus-copy\n",
      "  after removing the cwd from sys.path.\n",
      "C:\\Users\\simon880502\\Anaconda3\\lib\\site-packages\\ipykernel_launcher.py:5: SettingWithCopyWarning: \n",
      "A value is trying to be set on a copy of a slice from a DataFrame.\n",
      "Try using .loc[row_indexer,col_indexer] = value instead\n",
      "\n",
      "See the caveats in the documentation: http://pandas.pydata.org/pandas-docs/stable/indexing.html#indexing-view-versus-copy\n",
      "  \"\"\"\n",
      "C:\\Users\\simon880502\\Anaconda3\\lib\\site-packages\\ipykernel_launcher.py:6: SettingWithCopyWarning: \n",
      "A value is trying to be set on a copy of a slice from a DataFrame.\n",
      "Try using .loc[row_indexer,col_indexer] = value instead\n",
      "\n",
      "See the caveats in the documentation: http://pandas.pydata.org/pandas-docs/stable/indexing.html#indexing-view-versus-copy\n",
      "  \n",
      "C:\\Users\\simon880502\\Anaconda3\\lib\\site-packages\\ipykernel_launcher.py:10: FutureWarning: '.reindex_axis' is deprecated and will be removed in a future version. Use '.reindex' instead.\n",
      "  # Remove the CWD from sys.path while we load stuff.\n"
     ]
    }
   ],
   "source": [
    "# make REF\n",
    "cat2=[]\n",
    "for i in cat:\n",
    "    REF_df[i]=REF_df[i].apply(Convert)\n",
    "    REF_df['%s_x'%i]=REF_df['%s'%i].apply(lambda x: np.nan if pd.isna(x) else pd.Series(x.split(';')[0])).astype('float')\n",
    "    REF_df['%s_y'%i]=REF_df['%s'%i].apply(lambda x: np.nan if pd.isna(x) else pd.Series(x.split(';')[1])).astype('float')\n",
    "    cat2.append('%s_x'%i)\n",
    "    cat2.append('%s_y'%i)\n",
    "    REF_df=REF_df.drop(columns=[i])\n",
    "REF_df = REF_df.reindex_axis(sorted(REF_df.columns), axis=1)"
   ]
  },
  {
   "cell_type": "code",
   "execution_count": 7,
   "metadata": {},
   "outputs": [
    {
     "name": "stderr",
     "output_type": "stream",
     "text": [
      "C:\\Users\\simon880502\\Anaconda3\\lib\\site-packages\\ipykernel_launcher.py:11: FutureWarning: '.reindex_axis' is deprecated and will be removed in a future version. Use '.reindex' instead.\n",
      "  # This is added back by InteractiveShellApp.init_path()\n"
     ]
    }
   ],
   "source": [
    "cat2=[]\n",
    "for i in cat:\n",
    "    df[i]=df[i].apply(Convert)\n",
    "    df['%s_x'%i]=df['%s'%i].apply(lambda x: REF_df['%s_x'%i].mean() if 'EMPTY' in x else (x.split(';')[0])).astype('float')\n",
    "    df['%s_y'%i]=df['%s'%i].apply(lambda x: REF_df['%s_y'%i].mean() if 'EMPTY' in x else (x.split(';')[1])).astype('float')\n",
    "    \n",
    "    cat2.append('%s_x'%i)\n",
    "    cat2.append('%s_y'%i)\n",
    "    \n",
    "    df=df.drop(columns=[i])\n",
    "df = df.reindex_axis(sorted(df.columns), axis=1)"
   ]
  },
  {
   "cell_type": "code",
   "execution_count": 8,
   "metadata": {},
   "outputs": [],
   "source": [
    "from sklearn.neighbors import RadiusNeighborsRegressor,KNeighborsRegressor\n",
    "dis = 3\n",
    "for i in range(df.shape[0]):\n",
    "    Na_List = set(df.columns[df.iloc[i].isna() ].tolist())\n",
    "    for j in list(Na_List):\n",
    "        i2 = df.columns.get_loc(j)\n",
    "        neigh = RadiusNeighborsRegressor(radius=dis,weights='distance')\n",
    "        neigh.fit(REF_df.iloc[:,-6:],REF_df.iloc[:,i2])\n",
    "        df.iloc[i,i2]=neigh.predict(np.array(df.iloc[i,-6:]).reshape(1, -1))"
   ]
  },
  {
   "cell_type": "code",
   "execution_count": 9,
   "metadata": {
    "scrolled": true
   },
   "outputs": [
    {
     "name": "stdout",
     "output_type": "stream",
     "text": [
      "has 0 null in all data\n",
      "\n",
      "\n"
     ]
    }
   ],
   "source": [
    "print('has {} null in all data\\n\\n'.format(df.isnull().sum().sum()))\n"
   ]
  },
  {
   "cell_type": "markdown",
   "metadata": {},
   "source": [
    "# Pred"
   ]
  },
  {
   "cell_type": "code",
   "execution_count": 10,
   "metadata": {},
   "outputs": [
    {
     "name": "stderr",
     "output_type": "stream",
     "text": [
      "C:\\Users\\simon880502\\Anaconda3\\lib\\site-packages\\ipykernel_launcher.py:6: FutureWarning: '.reindex_axis' is deprecated and will be removed in a future version. Use '.reindex' instead.\n",
      "  \n"
     ]
    }
   ],
   "source": [
    "import joblib\n",
    "mapping = {'A1':[0],'A2':[1,2,3],'A3':[4,5,6,7,8],'A6':[9,10,11,12],'C':[13,14,15,16,17,18,19]}\n",
    "result = pd.read_excel('109029_TestResult.xlsx')\n",
    "result_original_order = result.columns\n",
    "result.columns\n",
    "result = result.reindex_axis(sorted(result.columns), axis=1)\n"
   ]
  },
  {
   "cell_type": "code",
   "execution_count": 11,
   "metadata": {},
   "outputs": [
    {
     "name": "stderr",
     "output_type": "stream",
     "text": [
      "C:\\Users\\simon880502\\Anaconda3\\lib\\site-packages\\sklearn\\utils\\deprecation.py:143: FutureWarning: The sklearn.ensemble.gradient_boosting module is  deprecated in version 0.22 and will be removed in version 0.24. The corresponding classes / functions should instead be imported from sklearn.ensemble. Anything that cannot be imported from sklearn.ensemble is now part of the private API.\n",
      "  warnings.warn(message, FutureWarning)\n",
      "C:\\Users\\simon880502\\Anaconda3\\lib\\site-packages\\sklearn\\base.py:334: UserWarning: Trying to unpickle estimator GradientBoostingRegressor from version 0.21.3 when using version 0.23.1. This might lead to breaking code or invalid results. Use at your own risk.\n",
      "  UserWarning)\n",
      "C:\\Users\\simon880502\\Anaconda3\\lib\\site-packages\\sklearn\\base.py:334: UserWarning: Trying to unpickle estimator DummyRegressor from version 0.21.3 when using version 0.23.1. This might lead to breaking code or invalid results. Use at your own risk.\n",
      "  UserWarning)\n",
      "C:\\Users\\simon880502\\Anaconda3\\lib\\site-packages\\sklearn\\utils\\deprecation.py:143: FutureWarning: The sklearn.tree.tree module is  deprecated in version 0.22 and will be removed in version 0.24. The corresponding classes / functions should instead be imported from sklearn.tree. Anything that cannot be imported from sklearn.tree is now part of the private API.\n",
      "  warnings.warn(message, FutureWarning)\n",
      "C:\\Users\\simon880502\\Anaconda3\\lib\\site-packages\\sklearn\\base.py:334: UserWarning: Trying to unpickle estimator DecisionTreeRegressor from version 0.21.3 when using version 0.23.1. This might lead to breaking code or invalid results. Use at your own risk.\n",
      "  UserWarning)\n",
      "C:\\Users\\simon880502\\Anaconda3\\lib\\site-packages\\sklearn\\base.py:334: UserWarning: Trying to unpickle estimator MultiOutputRegressor from version 0.21.3 when using version 0.23.1. This might lead to breaking code or invalid results. Use at your own risk.\n",
      "  UserWarning)\n"
     ]
    }
   ],
   "source": [
    "reg_A1 = joblib.load('BEST_A1.sav')\n",
    "reg_A2 = joblib.load('BEST_A2.sav')\n",
    "reg_A3 = joblib.load('BEST_A3.sav')\n",
    "reg_A6 = joblib.load('BEST_A6.sav')\n",
    "reg_C = joblib.load('BEST_C.sav')"
   ]
  },
  {
   "cell_type": "code",
   "execution_count": 12,
   "metadata": {},
   "outputs": [],
   "source": [
    "result.iloc[:,mapping['A1']] = reg_A1.predict(df)\n",
    "result.iloc[:,mapping['A2']] = reg_A2.predict(df)\n",
    "result.iloc[:,mapping['A3']] = reg_A3.predict(df)\n",
    "result.iloc[:,mapping['A6']] = reg_A6.predict(df)\n",
    "result.iloc[:,mapping['C']] = reg_C.predict(df)"
   ]
  },
  {
   "cell_type": "code",
   "execution_count": 13,
   "metadata": {},
   "outputs": [
    {
     "name": "stderr",
     "output_type": "stream",
     "text": [
      "C:\\Users\\simon880502\\Anaconda3\\lib\\site-packages\\ipykernel_launcher.py:1: FutureWarning: '.reindex_axis' is deprecated and will be removed in a future version. Use '.reindex' instead.\n",
      "  \"\"\"Entry point for launching an IPython kernel.\n"
     ]
    }
   ],
   "source": [
    "result = result.reindex_axis(result_original_order, axis=1)\n",
    "result = np.round(result,5)\n",
    "result.to_excel('109029_TestResult.xlsx',index=False)"
   ]
  }
 ],
 "metadata": {
  "kernelspec": {
   "display_name": "Python 3",
   "language": "python",
   "name": "python3"
  },
  "language_info": {
   "codemirror_mode": {
    "name": "ipython",
    "version": 3
   },
   "file_extension": ".py",
   "mimetype": "text/x-python",
   "name": "python",
   "nbconvert_exporter": "python",
   "pygments_lexer": "ipython3",
   "version": "3.6.4"
  }
 },
 "nbformat": 4,
 "nbformat_minor": 4
}
