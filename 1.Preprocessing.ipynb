{
 "cells": [
  {
   "cell_type": "markdown",
   "metadata": {},
   "source": [
    "# preprocessing"
   ]
  },
  {
   "cell_type": "code",
   "execution_count": null,
   "metadata": {
    "scrolled": true
   },
   "outputs": [],
   "source": [
    "import pandas as pd\n",
    "import numpy as np\n",
    "df = pd.read_csv(\"0714train.csv\")\n",
    "df = df.drop(columns='Number')\n",
    "REF_df = df.dropna()\n",
    "print('has {} null in all data\\n\\n'.format(df.isnull().sum().sum()))\n",
    "print(df.dtypes.value_counts())\n"
   ]
  },
  {
   "cell_type": "code",
   "execution_count": null,
   "metadata": {},
   "outputs": [],
   "source": [
    "cat = df.select_dtypes(include='object').columns\n",
    "num = df.select_dtypes(include=['float64','int64']).columns"
   ]
  },
  {
   "cell_type": "markdown",
   "metadata": {},
   "source": [
    "# Fill NA   (cat and num)"
   ]
  },
  {
   "cell_type": "markdown",
   "metadata": {},
   "source": [
    "####  RNN"
   ]
  },
  {
   "cell_type": "code",
   "execution_count": null,
   "metadata": {},
   "outputs": [],
   "source": [
    "from sklearn.neighbors import RadiusNeighborsRegressor,KNeighborsRegressor\n",
    "dis = 3\n",
    "for i in range(df.shape[0]):\n",
    "    Na_List = set(df.columns[df.iloc[i].isna() ].tolist())\n",
    "    Na_List-=set(cat)\n",
    "    for j in list(Na_List):\n",
    "        i2 = df.columns.get_loc(j)\n",
    "        if '_C_' in j:\n",
    "            neigh = RadiusNeighborsRegressor(radius=dis,weights='distance')\n",
    "            neigh.fit(REF_df.iloc[:,-6:],REF_df.iloc[:,i2])\n",
    "            df.iloc[i,i2]=neigh.predict(np.array(df.iloc[i,-6:]).reshape(1, -1))\n",
    "        elif '_A1_' in j:\n",
    "            neigh = RadiusNeighborsRegressor(radius=dis,weights='distance')\n",
    "            neigh.fit(REF_df.iloc[:,-6].reshape(-1, 1),REF_df.iloc[:,i2])\n",
    "            df.iloc[i,i2]=neigh.predict(df.iloc[i,-6].reshape(-1, 1))\n",
    "        elif '_A2_' in j:\n",
    "            neigh = RadiusNeighborsRegressor(radius=dis,weights='distance')\n",
    "            neigh.fit(REF_df.iloc[:,-5].reshape(-1, 1),REF_df.iloc[:,i2])\n",
    "            df.iloc[i,i2]=neigh.predict(df.iloc[i,-5].reshape(-1, 1))\n",
    "        elif '_A3_' in j:\n",
    "            neigh = RadiusNeighborsRegressor(radius=dis,weights='distance')\n",
    "            neigh.fit(REF_df.iloc[:,-4].reshape(-1, 1),REF_df.iloc[:,i2])\n",
    "            df.iloc[i,i2]=neigh.predict(df.iloc[i,-4].reshape(-1, 1))\n",
    "        elif '_A4_' in j:\n",
    "            neigh = RadiusNeighborsRegressor(radius=dis,weights='distance')\n",
    "            neigh.fit(REF_df.iloc[:,-3].reshape(-1, 1),REF_df.iloc[:,i2])\n",
    "            df.iloc[i,i2]=neigh.predict(df.iloc[i,-3].reshape(-1, 1))\n",
    "        elif '_A5_' in j:\n",
    "            neigh = RadiusNeighborsRegressor(radius=dis,weights='distance')\n",
    "            neigh.fit(REF_df.iloc[:,-2].reshape(-1, 1),REF_df.iloc[:,i2])\n",
    "            df.iloc[i,i2]=neigh.predict(df.iloc[i,-2].reshape(-1, 1))\n",
    "        elif '_A6_' in j:\n",
    "            neigh = RadiusNeighborsRegressor(radius=dis,weights='distance')\n",
    "            neigh.fit(REF_df.iloc[:,-1].reshape(-1, 1),REF_df.iloc[:,i2])\n",
    "            df.iloc[i,i2]=neigh.predict(df.iloc[i,-1].reshape(-1, 1))"
   ]
  },
  {
   "cell_type": "code",
   "execution_count": null,
   "metadata": {
    "scrolled": true
   },
   "outputs": [],
   "source": [
    "print('has {} null in all data\\n\\n'.format(df.isnull().sum().sum()))"
   ]
  },
  {
   "cell_type": "markdown",
   "metadata": {},
   "source": [
    "# Fill category"
   ]
  },
  {
   "cell_type": "code",
   "execution_count": null,
   "metadata": {},
   "outputs": [],
   "source": [
    "def Convert(s):\n",
    "    s=str(s)\n",
    "    L=s.split(';')\n",
    "    out=''\n",
    "    if len(L)==1:\n",
    "#         print(i)\n",
    "        return 'EMPTY'\n",
    "    if L[0]=='U':\n",
    "        out+=str(L[1])\n",
    "    elif L[0]=='D':\n",
    "        out+='-'+str(L[1])\n",
    "    else:\n",
    "        out+='0'\n",
    "    out+=';'\n",
    "    if L[2]=='R':\n",
    "        out+=str(L[3])\n",
    "    elif L[2]=='L':\n",
    "        out+='-'+str(L[3])\n",
    "    else:\n",
    "        out+='0'\n",
    "    return out"
   ]
  },
  {
   "cell_type": "code",
   "execution_count": null,
   "metadata": {},
   "outputs": [],
   "source": [
    "# make REF\n",
    "cat2=[]\n",
    "for i in cat:\n",
    "    REF_df[i]=REF_df[i].apply(Convert)\n",
    "    REF_df['%s_x'%i]=REF_df['%s'%i].apply(lambda x: np.nan if pd.isna(x) else pd.Series(x.split(';')[0])).astype('float')\n",
    "    REF_df['%s_y'%i]=REF_df['%s'%i].apply(lambda x: np.nan if pd.isna(x) else pd.Series(x.split(';')[1])).astype('float')\n",
    "    cat2.append('%s_x'%i)\n",
    "    cat2.append('%s_y'%i)\n",
    "    REF_df=REF_df.drop(columns=[i])\n",
    "REF_df = REF_df.reindex_axis(sorted(REF_df.columns), axis=1)"
   ]
  },
  {
   "cell_type": "code",
   "execution_count": null,
   "metadata": {},
   "outputs": [],
   "source": [
    "cat2=[]\n",
    "for i in cat:\n",
    "    df[i]=df[i].apply(Convert)\n",
    "    df['%s_x'%i]=df['%s'%i].apply(lambda x: REF_df['%s_x'%i].mean() if 'EMPTY' in x else (x.split(';')[0])).astype('float')\n",
    "    df['%s_y'%i]=df['%s'%i].apply(lambda x: REF_df['%s_y'%i].mean() if 'EMPTY' in x else (x.split(';')[1])).astype('float')\n",
    "    \n",
    "    cat2.append('%s_x'%i)\n",
    "    cat2.append('%s_y'%i)\n",
    "    \n",
    "    df=df.drop(columns=[i])\n",
    "df = df.reindex_axis(sorted(df.columns), axis=1)"
   ]
  },
  {
   "cell_type": "code",
   "execution_count": null,
   "metadata": {},
   "outputs": [],
   "source": [
    "from sklearn.neighbors import RadiusNeighborsRegressor,KNeighborsRegressor\n",
    "dis = 3\n",
    "for i in range(df.shape[0]):\n",
    "    Na_List = set(df.columns[df.iloc[i].isna() ].tolist())\n",
    "    for j in list(Na_List):\n",
    "        i2 = df.columns.get_loc(j)\n",
    "        neigh = RadiusNeighborsRegressor(radius=dis,weights='distance')\n",
    "        neigh.fit(REF_df.iloc[:,-6:],REF_df.iloc[:,i2])\n",
    "        df.iloc[i,i2]=neigh.predict(np.array(df.iloc[i,-6:]).reshape(1, -1))"
   ]
  },
  {
   "cell_type": "code",
   "execution_count": null,
   "metadata": {},
   "outputs": [],
   "source": [
    "print('has {} null in all data\\n\\n'.format(df.isnull().sum().sum()))\n"
   ]
  },
  {
   "cell_type": "code",
   "execution_count": null,
   "metadata": {},
   "outputs": [],
   "source": [
    "df.to_csv(\"pre-0714train.csv\",index=False)"
   ]
  }
 ],
 "metadata": {
  "kernelspec": {
   "display_name": "Python 3",
   "language": "python",
   "name": "python3"
  },
  "language_info": {
   "codemirror_mode": {
    "name": "ipython",
    "version": 3
   },
   "file_extension": ".py",
   "mimetype": "text/x-python",
   "name": "python",
   "nbconvert_exporter": "python",
   "pygments_lexer": "ipython3",
   "version": "3.6.4"
  }
 },
 "nbformat": 4,
 "nbformat_minor": 4
}
