{
 "cells": [
  {
   "cell_type": "markdown",
   "metadata": {},
   "source": [
    "# Training Model"
   ]
  },
  {
   "cell_type": "code",
   "execution_count": 1,
   "metadata": {},
   "outputs": [],
   "source": [
    "from sklearn.model_selection import train_test_split\n",
    "from sklearn.multioutput import MultiOutputRegressor,MultiOutputClassifier\n",
    "from sklearn.linear_model import Ridge\n",
    "from sklearn.ensemble import GradientBoostingRegressor,AdaBoostRegressor,BaggingRegressor,RandomForestRegressor,AdaBoostClassifier\n",
    "from sklearn.linear_model import LinearRegression\n",
    "from sklearn.metrics import mean_squared_error,r2_score\n",
    "from sklearn.neighbors import RadiusNeighborsRegressor,KNeighborsRegressor\n",
    "from sklearn.preprocessing import StandardScaler,Normalizer,MinMaxScaler\n",
    "import pandas as pd\n",
    "import numpy as np\n",
    "import matplotlib.pyplot as plt\n",
    "from statistics import mean\n",
    "from sklearn import preprocessing\n",
    "import joblib"
   ]
  },
  {
   "cell_type": "markdown",
   "metadata": {},
   "source": [
    "# MultiOutputRegressor"
   ]
  },
  {
   "cell_type": "code",
   "execution_count": 2,
   "metadata": {},
   "outputs": [],
   "source": [
    "df = pd.read_csv('pre-0714train.csv')"
   ]
  },
  {
   "cell_type": "code",
   "execution_count": 3,
   "metadata": {},
   "outputs": [],
   "source": [
    "mapping = {'A1':[0],'A2':[1,2,3],'A3':[4,5,6,7,8],'A6':[9,10,11,12],'C':[13,14,15,16,17,18,19]}"
   ]
  },
  {
   "cell_type": "code",
   "execution_count": 5,
   "metadata": {},
   "outputs": [
    {
     "name": "stdout",
     "output_type": "stream",
     "text": [
      "0.7881333577316227\n",
      "REPLACE==\n",
      "0.8132741655070391\n",
      "REPLACE==\n",
      "0.8896386684500533\n",
      "REPLACE==\n",
      "0.8382807321585792\n",
      "0.8026396037799552\n",
      "0.9187657456560124\n",
      "REPLACE==\n",
      "0.8359457796436383\n",
      "0.8782793081741149\n",
      "0.013604827432952516\n",
      "0.9838150461869742\n"
     ]
    }
   ],
   "source": [
    "'''\n",
    "A1\n",
    "'''\n",
    "\n",
    "df_2 = df\n",
    "df_2 = df_2.query('Input_A1_020<=1')\n",
    "y='Input_A6_024、Input_A3_016、Input_C_013、Input_A2_016、Input_A3_017、Input_C_050、Input_A6_001、Input_C_096、Input_A3_018、Input_A6_019、Input_A1_020、Input_A6_011、Input_A3_015、Input_C_046、Input_C_049、Input_A2_024、Input_C_058、Input_C_057、Input_A3_013、Input_A2_017'\n",
    "a=(y.split('、'))\n",
    "a.sort()\n",
    "y=df_2[a]\n",
    "X=df_2.drop(y,axis=1)\n",
    "\n",
    "R2 = 0\n",
    "C=0\n",
    "maxR2=0\n",
    "best=MultiOutputRegressor(GradientBoostingRegressor())\n",
    "while C<200:\n",
    "    X_train, X_test, y_train, y_test = train_test_split(X, y.iloc[:,mapping[\"A1\"]], test_size=0.3)    \n",
    "    reg_A1 = MultiOutputRegressor(GradientBoostingRegressor(loss='ls',n_estimators=100))\n",
    "    reg_A1.fit(X_train, y_train)\n",
    "    Pred =reg_A1.predict(X_test)\n",
    "    R2 = reg_A1.score(X_test,y_test)\n",
    "    print(R2)\n",
    "    if R2>maxR2:\n",
    "        maxR2=R2\n",
    "        print(\"REPLACE==\")\n",
    "        best = reg_A1\n",
    "    C+=1\n",
    "reg_A1 = best\n",
    "joblib.dump(best, 'BEST_A1.sav')\n",
    "Pred = np.round(Pred,2)\n",
    "print(mean_squared_error(Pred,y_test))\n",
    "print(reg_A1.score(X_test,y_test))"
   ]
  },
  {
   "cell_type": "code",
   "execution_count": null,
   "metadata": {},
   "outputs": [],
   "source": [
    "'''\n",
    "A2\n",
    "'''\n",
    "\n",
    "df_2 = df\n",
    "\n",
    "y='Input_A6_024、Input_A3_016、Input_C_013、Input_A2_016、Input_A3_017、Input_C_050、Input_A6_001、Input_C_096、Input_A3_018、Input_A6_019、Input_A1_020、Input_A6_011、Input_A3_015、Input_C_046、Input_C_049、Input_A2_024、Input_C_058、Input_C_057、Input_A3_013、Input_A2_017'\n",
    "a=(y.split('、'))\n",
    "a.sort()\n",
    "y=df_2[a]\n",
    "X=df_2.drop(y,axis=1)\n",
    "\n",
    "REG=MultiOutputRegressor(GradientBoostingRegressor())\n",
    "C=0\n",
    "maxR2=0\n",
    "R2=0\n",
    "while C<200:\n",
    "    X_train, X_test, y_train, y_test = train_test_split(X, y.iloc[:,mapping[\"A2\"]], test_size=0.3)    \n",
    "    reg_A2 = MultiOutputRegressor(GradientBoostingRegressor(n_estimators=1000,learning_rate=0.005))\n",
    "    reg_A2.fit(X_train, y_train)\n",
    "    Pred =reg_A2.predict(X_test)\n",
    "    R2 = reg_A2.score(X_test,y_test)\n",
    "    Pred = np.round(Pred,2)\n",
    "    print(R2)\n",
    "    if R2>maxR2:\n",
    "        maxR2=R2\n",
    "        print(\"REPLACE==\")\n",
    "        best = reg_A2\n",
    "    C+=1\n",
    "    \n",
    "joblib.dump(best, 'BEST_A2.sav')\n",
    "print(mean_squared_error(Pred,y_test))\n",
    "print(reg_A2.score(X_test,y_test))"
   ]
  },
  {
   "cell_type": "code",
   "execution_count": null,
   "metadata": {
    "scrolled": true
   },
   "outputs": [],
   "source": [
    "'''\n",
    "A3\n",
    "'''\n",
    "\n",
    "df_2 = df\n",
    "y='Input_A6_024、Input_A3_016、Input_C_013、Input_A2_016、Input_A3_017、Input_C_050、Input_A6_001、Input_C_096、Input_A3_018、Input_A6_019、Input_A1_020、Input_A6_011、Input_A3_015、Input_C_046、Input_C_049、Input_A2_024、Input_C_058、Input_C_057、Input_A3_013、Input_A2_017'\n",
    "a=(y.split('、'))\n",
    "a.sort()\n",
    "y=df_2[a]\n",
    "X=df_2.drop(y,axis=1)\n",
    "\n",
    "REG=MultiOutputRegressor(GradientBoostingRegressor())\n",
    "C=0\n",
    "maxR2=0\n",
    "R2=0\n",
    "while C<200:\n",
    "    X_train, X_test, y_train, y_test = train_test_split(X, y.iloc[:,mapping[\"A3\"]], test_size=0.3)    \n",
    "    reg_A3 = MultiOutputRegressor(GradientBoostingRegressor(n_estimators=1000,learning_rate=0.05))\n",
    "    reg_A3.fit(X_train, y_train)\n",
    "    Pred =reg_A3.predict(X_test)\n",
    "    R2 = reg_A3.score(X_test,y_test)\n",
    "    Pred = np.round(Pred,2)\n",
    "    print(R2)\n",
    "    if R2>maxR2:\n",
    "        maxR2=R2\n",
    "        print(\"REPLACE==\")\n",
    "        best = reg_A3\n",
    "    C+=1\n",
    "    \n",
    "joblib.dump(best, 'BEST_A3.sav')\n",
    "print(mean_squared_error(Pred,y_test))\n",
    "print(reg_A3.score(X_test,y_test))"
   ]
  },
  {
   "cell_type": "code",
   "execution_count": null,
   "metadata": {},
   "outputs": [],
   "source": [
    "'''\n",
    "A6\n",
    "'''\n",
    "\n",
    "df_2 = df\n",
    "y='Input_A6_024、Input_A3_016、Input_C_013、Input_A2_016、Input_A3_017、Input_C_050、Input_A6_001、Input_C_096、Input_A3_018、Input_A6_019、Input_A1_020、Input_A6_011、Input_A3_015、Input_C_046、Input_C_049、Input_A2_024、Input_C_058、Input_C_057、Input_A3_013、Input_A2_017'\n",
    "a=(y.split('、'))\n",
    "a.sort()\n",
    "y=df_2[a]\n",
    "X=df_2.drop(y,axis=1)\n",
    "\n",
    "REG=MultiOutputRegressor(GradientBoostingRegressor())\n",
    "C=0\n",
    "maxR2=0\n",
    "R2=0\n",
    "while C<200:\n",
    "    X_train, X_test, y_train, y_test = train_test_split(X, y.iloc[:,mapping[\"A6\"]], test_size=0.3)    \n",
    "    reg_A6 = MultiOutputRegressor(GradientBoostingRegressor(n_estimators=1000,learning_rate=0.5))\n",
    "    reg_A6.fit(X_train, y_train)\n",
    "    Pred =reg_A6.predict(X_test)\n",
    "    R2 = reg_A6.score(X_test,y_test)\n",
    "    Pred = np.round(Pred,2)\n",
    "    print(R2)\n",
    "    if R2>maxR2:\n",
    "        maxR2=R2\n",
    "        print(\"REPLACE==\")\n",
    "        best = reg_A6\n",
    "    C+=1    \n",
    "joblib.dump(best, 'BEST_A6.sav') \n",
    "print(mean_squared_error(Pred,y_test))\n",
    "print(reg_A6.score(X_test,y_test))"
   ]
  },
  {
   "cell_type": "code",
   "execution_count": null,
   "metadata": {},
   "outputs": [],
   "source": [
    "'''\n",
    "C\n",
    "'''\n",
    "\n",
    "df_2 = df\n",
    "y='Input_A6_024、Input_A3_016、Input_C_013、Input_A2_016、Input_A3_017、Input_C_050、Input_A6_001、Input_C_096、Input_A3_018、Input_A6_019、Input_A1_020、Input_A6_011、Input_A3_015、Input_C_046、Input_C_049、Input_A2_024、Input_C_058、Input_C_057、Input_A3_013、Input_A2_017'\n",
    "a=(y.split('、'))\n",
    "a.sort()\n",
    "y=df_2[a]\n",
    "X=df_2.drop(y,axis=1)\n",
    "\n",
    "REG=MultiOutputRegressor(GradientBoostingRegressor())\n",
    "C=0\n",
    "maxR2=0\n",
    "R2=0\n",
    "while C<200:\n",
    "    X_train, X_test, y_train, y_test = train_test_split(X, y.iloc[:,mapping[\"C\"]], test_size=0.3)    \n",
    "    reg_C = MultiOutputRegressor(GradientBoostingRegressor(n_estimators=1000,learning_rate=0.05))\n",
    "    reg_C.fit(X_train, y_train)\n",
    "    Pred =reg_C.predict(X_test)\n",
    "    R2 = reg_C.score(X_test,y_test)\n",
    "    Pred = np.round(Pred,2)\n",
    "    print(R2)\n",
    "    if R2>maxR2:\n",
    "        maxR2=R2\n",
    "        print(\"REPLACE==\")\n",
    "        best = reg_C\n",
    "    C+=1    \n",
    "joblib.dump(best, 'BEST_C.sav')\n",
    "print(mean_squared_error(Pred,y_test))\n",
    "print(reg_C.score(X_test,y_test))"
   ]
  }
 ],
 "metadata": {
  "kernelspec": {
   "display_name": "Python 3",
   "language": "python",
   "name": "python3"
  },
  "language_info": {
   "codemirror_mode": {
    "name": "ipython",
    "version": 3
   },
   "file_extension": ".py",
   "mimetype": "text/x-python",
   "name": "python",
   "nbconvert_exporter": "python",
   "pygments_lexer": "ipython3",
   "version": "3.6.4"
  }
 },
 "nbformat": 4,
 "nbformat_minor": 4
}
